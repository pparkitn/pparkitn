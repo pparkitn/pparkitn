{
 "cells": [
  {
   "cell_type": "code",
   "execution_count": null,
   "id": "cd26f8e7",
   "metadata": {
    "tags": [
     "parameters"
    ]
   },
   "outputs": [],
   "source": [
    "\"\"\"\n",
    "Cell For Papermill Parameters\n",
    "\"\"\"\n",
    "\n",
    "#Destinations Folders\n",
    "pso_folder = \"../../dataset/src_US/pos\"\n",
    "neg_folder = \"../../dataset/src_US/neg\"\n",
    "\n",
    "#Target Flags\n",
    "labels_file = \"../data/TCIA Biopsy Data_2020-07-14.xlsx\"\n",
    "\n",
    "#Source Images Path\n",
    "folder_path = \"../../prostate_cancer_data/\"\n",
    "file_name = 'US_fnl.jpg'"
   ]
  },
  {
   "cell_type": "code",
   "execution_count": null,
   "id": "71d5d094",
   "metadata": {},
   "outputs": [],
   "source": [
    "import os\n",
    "import pandas as pd\n",
    "import glob\n",
    "from pathlib import Path\n",
    "from shutil import copyfile"
   ]
  },
  {
   "cell_type": "code",
   "execution_count": null,
   "id": "05c21d2c",
   "metadata": {},
   "outputs": [],
   "source": [
    "def get_labels(patient_id):\n",
    "    \n",
    "    \"\"\"\n",
    "    get_labels return 1/0 for cancer or no cancer per patient\n",
    "    \n",
    "    :param patient_id: patientID\n",
    "    :return: 0/1 for cancer or no cancer\n",
    "    \"\"\" \n",
    "    \n",
    "    df = labels_df[labels_df['Patient Number'].str.contains(patient_id)]\n",
    "    \n",
    "    df = df[df[\"% Cancer in Core\"] > 0]\n",
    "    \n",
    "    if len(df) > 0:\n",
    "        return 1\n",
    "    else:\n",
    "        return 0"
   ]
  },
  {
   "cell_type": "code",
   "execution_count": null,
   "id": "c6217f56",
   "metadata": {},
   "outputs": [],
   "source": [
    "def move_image(file_name,image,patient_id,scan_date):\n",
    "    \n",
    "    \"\"\"\n",
    "    move_image moves image from one folder to another\n",
    "    \n",
    "    :param file_name: file name\n",
    "    :param image: image\n",
    "    :param patient_id: patientid\n",
    "    :param scan_date: scan date\n",
    "    \"\"\"     \n",
    "        \n",
    "    print(\"============================================\")\n",
    "    print(image)\n",
    "    print(patient_id)\n",
    "    print(scan_date)\n",
    "    new_image_name = file_name +\"_\"+ scan_date +\"_\"+ patient_id +\".jpg\"\n",
    "    print(new_image_name)\n",
    "    \n",
    "    if get_labels(patient_id) == 1:\n",
    "        dst_folder = pso_folder\n",
    "    else:\n",
    "        dst_folder = neg_folder\n",
    "    \n",
    "    final_image = os.path.join(dst_folder, new_image_name)\n",
    "    print(final_image)\n",
    "            \n",
    "    copyfile(image, final_image)"
   ]
  },
  {
   "cell_type": "code",
   "execution_count": null,
   "id": "7e20f22a",
   "metadata": {},
   "outputs": [],
   "source": [
    "# ==========================================================================================\n",
    "# Remove old Final Files\n",
    "# ==========================================================================================\n",
    "fileList = glob.glob(pso_folder+\"/\" + '*jpg*')\n",
    "\n",
    "# Iterate over the list of filepaths & remove each file.\n",
    "for filePath in fileList:\n",
    "    try:\n",
    "        os.remove(filePath)\n",
    "    except:\n",
    "        print(\"Error while deleting file : \", filePath)\n",
    "\n",
    "fileList = glob.glob(neg_folder+\"/\" + '*jpg*')\n",
    "\n",
    "# Iterate over the list of filepaths & remove each file.\n",
    "for filePath in fileList:\n",
    "    try:\n",
    "        os.remove(filePath)\n",
    "    except:\n",
    "        print(\"Error while deleting file : \", filePath)"
   ]
  },
  {
   "cell_type": "code",
   "execution_count": null,
   "id": "b20a0fde",
   "metadata": {},
   "outputs": [],
   "source": [
    "labels_df = pd.read_excel (labels_file)\n",
    "fileList = glob.glob(folder_path + '**/*' +file_name  , recursive=True)"
   ]
  },
  {
   "cell_type": "code",
   "execution_count": null,
   "id": "e28b475c",
   "metadata": {},
   "outputs": [],
   "source": [
    "print(len(fileList))\n",
    "\n",
    "for image in fileList:\n",
    "    patient_id = image[119:123]\n",
    "    scan_date = image[124:133]\n",
    "    print(patient_id)\n",
    "    print(scan_date)\n",
    "    move_image(file_name,image,patient_id,scan_date)"
   ]
  }
 ],
 "metadata": {
  "kernelspec": {
   "display_name": "Python 3",
   "language": "python",
   "name": "python3"
  },
  "language_info": {
   "codemirror_mode": {
    "name": "ipython",
    "version": 3
   },
   "file_extension": ".py",
   "mimetype": "text/x-python",
   "name": "python",
   "nbconvert_exporter": "python",
   "pygments_lexer": "ipython3",
   "version": "3.6.9"
  }
 },
 "nbformat": 4,
 "nbformat_minor": 5
}
