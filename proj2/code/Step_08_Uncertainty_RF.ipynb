{
 "cells": [
  {
   "cell_type": "code",
   "execution_count": null,
   "metadata": {
    "tags": [
     "parameters"
    ]
   },
   "outputs": [],
   "source": [
    "\"\"\"\n",
    "Cell For Papermill Parameters\n",
    "\"\"\"\n",
    "\n",
    "test_size = 0.2\n",
    "input_data = \"to_ngboost.csv\"\n",
    "Label_Column = 'label_clas'\n",
    "estimators = 1000\n",
    "NUM_CLASSES = 2\n",
    "in_file_MRI = \"uncertainty_MRI.csv\"\n",
    "in_file_US = \"uncertainty_US.csv\""
   ]
  },
  {
   "cell_type": "code",
   "execution_count": null,
   "metadata": {},
   "outputs": [],
   "source": [
    "import os\n",
    "import random\n",
    "import sys\n",
    "import gc\n",
    "import copy\n",
    "\n",
    "import numpy as np\n",
    "import pandas as pd\n",
    "import pickle\n",
    "\n",
    "import torch\n",
    "import torch.nn as nn\n",
    "import torch.backends.cudnn as cudnn\n",
    "import torch.optim\n",
    "import torch.utils.data\n",
    "import torchvision\n",
    "import torchvision.transforms as transforms\n",
    "import torchvision.datasets as datasets\n",
    "import torchvision.models as models\n",
    "\n",
    "from sklearn.ensemble import RandomForestClassifier\n",
    "from sklearn.feature_extraction.text import TfidfVectorizer\n",
    "from sklearn.cluster import KMeans\n",
    "from sklearn.model_selection import train_test_split\n",
    "from sklearn.model_selection import cross_val_score"
   ]
  },
  {
   "cell_type": "code",
   "execution_count": null,
   "metadata": {},
   "outputs": [],
   "source": [
    "with open(in_file_MRI+'.pickle', 'rb') as f:\n",
    "    mri_combined_uncertainties = pickle.load(f)\n",
    "    \n",
    "with open(in_file_US+'.pickle', 'rb') as f:\n",
    "    us_combined_uncertainties = pickle.load(f)"
   ]
  },
  {
   "cell_type": "markdown",
   "metadata": {},
   "source": [
    "### 5. Load RandomForest Model + Make Predictions / Uncertainty Estimates\n",
    "\n",
    "This section follows a similar format to the DNN models but with slight modifications "
   ]
  },
  {
   "cell_type": "markdown",
   "metadata": {},
   "source": [
    "#### 5.1 Load RF Model Parameters"
   ]
  },
  {
   "cell_type": "markdown",
   "metadata": {},
   "source": [
    "#### 5.2 Load RF Data Parameters"
   ]
  },
  {
   "cell_type": "code",
   "execution_count": null,
   "metadata": {},
   "outputs": [],
   "source": [
    "df = pd.read_csv(input_data)\n",
    "\n",
    "#df.drop([\"cancer_in_core_max\",\"cancer_in_core_mean\",\"patient\",\"Patient Number\",\"name\",\"ethnic_grp\",\"occupation\",\"patient_US\"],axis=1, inplace=True)\n",
    "df.drop([\"name\",\"smoking_status\",\"occupation\",\"Model-MRI-DNN\",\"Model-US-DNN\"],axis=1, inplace=True)\n",
    "\n",
    "age_mean = df[\"age\"].mean()\n",
    "size_mean = df[\"size\"].mean()\n",
    "weight_mean = df[\"weight\"].mean()\n",
    "psa_mean = df[\"PSA\"].mean()\n",
    "\n",
    "df= df.fillna({\"age\":age_mean, \"size\":size_mean, \"weight\":weight_mean, \"PSA\":psa_mean})\n",
    "df.dropna(inplace=True)\n",
    "\n",
    "df.loc[df.ethnic_grp ==\"Patient Refused\",\"ethnic_grp\"] = \"Unknown\"\n",
    "df.loc[df.ethnic_grp ==\"Unknown [3]\",\"ethnic_grp\"] = \"Unknown\"\n",
    "\n",
    "Label_Column = 'label_clas'\n",
    "df[Label_Column] = df[Label_Column].astype(int)\n",
    "\n",
    "features_df = df.drop(Label_Column,axis=1,inplace=False)\n",
    "features_one_hot_df = pd.get_dummies(features_df)\n",
    "\n",
    "labels_df = df[[Label_Column]]"
   ]
  },
  {
   "cell_type": "code",
   "execution_count": null,
   "metadata": {},
   "outputs": [],
   "source": [
    "features_one_hot_df.head(5)"
   ]
  },
  {
   "cell_type": "code",
   "execution_count": null,
   "metadata": {},
   "outputs": [],
   "source": [
    "features_np = features_one_hot_df.values.tolist()\n",
    "labels_np = labels_df.values.ravel()\n",
    "X_train, X_test, Y_train, Y_test = train_test_split(features_np,labels_np, random_state=0,test_size=0.2)"
   ]
  },
  {
   "cell_type": "markdown",
   "metadata": {},
   "source": [
    "#### 5.3 Load RF Model"
   ]
  },
  {
   "cell_type": "code",
   "execution_count": null,
   "metadata": {},
   "outputs": [],
   "source": [
    "clf = RandomForestClassifier(n_estimators=estimators,n_jobs=-1,verbose=0)\n",
    "clf = clf.fit(X_train, Y_train)"
   ]
  },
  {
   "cell_type": "markdown",
   "metadata": {},
   "source": [
    "#### 5.4 Make Uncertainty Estimates on the Data"
   ]
  },
  {
   "cell_type": "code",
   "execution_count": null,
   "metadata": {},
   "outputs": [],
   "source": [
    "## existing section to make predictions on input data ##\n",
    "prediction = clf.predict(X_test)\n",
    "probability = clf.predict_proba(X_test)\n",
    "\n",
    "probability_df = pd.DataFrame(probability)\n",
    "probability_df.columns = ['Prob_0','Prob_1']\n",
    "probability_df"
   ]
  },
  {
   "cell_type": "code",
   "execution_count": null,
   "metadata": {},
   "outputs": [],
   "source": [
    "## new section to prep uncertainty estimates ##\n",
    "def get_input_rf_monte_carlo_predictions(data, forward_passes,\n",
    "                                      model, n_classes, n_samples,\n",
    "                                     uncertainty_list, variable_col_index):\n",
    "    \"\"\" Function to get the monte-carlo samples and uncertainty estimates\n",
    "    through multiple forward passes in a RF model, coming from a variable\n",
    "    and its uncertainty estimates\n",
    "\n",
    "    Parameters\n",
    "    ----------\n",
    "    data : list\n",
    "        data as list that is fed into the RF model. Each entry should represent\n",
    "        a single data point / individual.\n",
    "    forward_passes : int\n",
    "        number of monte-carlo samples/forward passes\n",
    "    model : SKLearn RF Model\n",
    "        Random Forest classifier model\n",
    "    n_classes : int\n",
    "        number of classes in the dataset\n",
    "    n_samples : int\n",
    "        number of samples in the test set\n",
    "    uncertainty_list : list\n",
    "        list of uncertainty estimates associated with the input variable\n",
    "    variable_col_index : int\n",
    "        int representing the column position of the variable with uncertainty\n",
    "    \"\"\"\n",
    "    \n",
    "    noise_predictions = np.empty((0, n_samples, n_classes))\n",
    "    softmax = nn.Softmax(dim=1)\n",
    "    \n",
    "    # create forward_passes number of monte carlo predictions\n",
    "    for i in range(forward_passes):\n",
    "        \n",
    "        predictions = np.empty((0, n_classes))\n",
    "        \n",
    "        # loop over each entry\n",
    "        for i, entry_uncertainty in enumerate(uncertainty_list):\n",
    "            \n",
    "            # get variable values for the current entry\n",
    "            X_row = data[i]\n",
    "            \n",
    "            # make copy so the original data isn't affected on the next monte carlo loop\n",
    "            X_row_copy = copy.deepcopy(X_row)\n",
    "            \n",
    "            # generate noise from distribution where std = uncertainty estimate in the variable.\n",
    "            # this noise comes back as a tensor of a single value\n",
    "            noise = torch.normal(mean = 0., std = entry_uncertainty, size = [1])\n",
    "            \n",
    "            # extract the single value from the tensor and convert to float\n",
    "            noise = noise.data.cpu().numpy()[0]\n",
    "            \n",
    "            # add the noise to the variable's value\n",
    "            noisy_variable = X_row_copy[variable_col_index] + noise\n",
    "            \n",
    "            # replace variable with the noisy version\n",
    "            X_row_copy[variable_col_index] = noisy_variable\n",
    "            \n",
    "            # reshape to make prediction\n",
    "            X_row_copy = np.array(X_row_copy).reshape(1,-1)\n",
    "\n",
    "            # make prediction with the noisy variable\n",
    "            output = model.predict_proba(X_row_copy)\n",
    "            predictions = np.vstack((predictions, output))\n",
    "\n",
    "\n",
    "        noise_predictions = np.vstack((noise_predictions, predictions[np.newaxis, :, :]))\n",
    "        # noise predictions - shape (forward_passes, n_samples, n_classes)\n",
    "\n",
    "    # Calculating variance across multiple forward passes \n",
    "    variance = np.var(noise_predictions, axis=0) # shape (n_samples, n_classes)\n",
    "    \n",
    "    return (variance**0.5)\n",
    "\n",
    "def get_rf_model_uncertainty(clf, X):\n",
    "    '''Function to take a SKLearn RF classifier and inputs\n",
    "    to make predictions for each tree in the classifier. Computes\n",
    "    and returns the uncertainty from this distribution.'''\n",
    "    \n",
    "    # list where each entry is a classifier's predictions for all passed examples\n",
    "    # aka shape [num_trees, num_examples, num_classes]\n",
    "    per_tree_pred = [tree.predict_proba(X) for tree in clf.estimators_]\n",
    "\n",
    "    variance = np.var(per_tree_pred, axis=0)\n",
    "    \n",
    "    uncertainty = variance**0.5\n",
    "    \n",
    "    return uncertainty"
   ]
  },
  {
   "cell_type": "code",
   "execution_count": null,
   "metadata": {},
   "outputs": [],
   "source": [
    "print(len(X_test))\n",
    "print(len(mri_combined_uncertainties))\n",
    "print(len(us_combined_uncertainties))"
   ]
  },
  {
   "cell_type": "code",
   "execution_count": null,
   "metadata": {},
   "outputs": [],
   "source": [
    "df_extra = pd.read_csv(input_data)\n",
    "\n",
    "df_extra.drop([\"smoking_status\",\"occupation\",\"Model-MRI-DNN\",\"Model-US-DNN\"],axis=1, inplace=True)\n",
    "\n",
    "age_mean = df_extra[\"age\"].mean()\n",
    "size_mean = df_extra[\"size\"].mean()\n",
    "weight_mean = df_extra[\"weight\"].mean()\n",
    "psa_mean = df_extra[\"PSA\"].mean()\n",
    "\n",
    "df_extra= df_extra.fillna({\"age\":age_mean, \"size\":size_mean, \"weight\":weight_mean, \"PSA\":psa_mean})\n",
    "df_extra.dropna(inplace=True)\n",
    "\n",
    "df_extra.loc[df_extra.ethnic_grp ==\"Patient Refused\",\"ethnic_grp\"] = \"Unknown\"\n",
    "df_extra.loc[df_extra.ethnic_grp ==\"Unknown [3]\",\"ethnic_grp\"] = \"Unknown\"\n",
    "\n",
    "Label_Column = 'label_clas'\n",
    "df_extra[Label_Column] = df_extra[Label_Column].astype(int)\n",
    "\n",
    "features_df_extra = df_extra.drop(Label_Column,axis=1,inplace=False)\n",
    "features_one_hot_df_extra = pd.get_dummies(features_df_extra, columns = [\"ethnic_grp\"])\n",
    "\n",
    "# get df to find original row indices corresponding to specific\n",
    "# patient numbers\n",
    "df_patient_nums = features_one_hot_df_extra[\"name\"].str[-4:].astype(int)\n",
    "\n",
    "df_patient_nums"
   ]
  },
  {
   "cell_type": "code",
   "execution_count": null,
   "metadata": {},
   "outputs": [],
   "source": [
    "## new section to find and match uncertainties in the same order as X_test ##\n",
    "\n",
    "model_scores = 'dnn_model_scores-MRI.csv'\n",
    "model_scores2 = 'dnn_model_scores-US.csv'\n",
    "\n",
    "# get rows of features_one_hot_df which are in X_test, aka X_test as a pandas df\n",
    "X_test_patients = features_one_hot_df.iloc[\n",
    "    [i for i, features in enumerate(features_one_hot_df.values.tolist())\n",
    "     if features in X_test]\n",
    "]\n",
    "\n",
    "# import dataframe that has MRI results + patient number\n",
    "mri_df = pd.read_csv(model_scores)\n",
    "mri_df = mri_df[['patient','predicted','prob']]\n",
    "mri_df = mri_df.add_suffix('_MRI')\n",
    "mri_df[\"patient_num\"] = mri_df[\"patient_MRI\"].str[-4:].astype(int)\n",
    "# import dataframe that has US results + patient number\n",
    "us_df = pd.read_csv(model_scores2)\n",
    "us_df = us_df[['patient','predicted','prob']]\n",
    "us_df = us_df.add_suffix('_US')\n",
    "us_df[\"patient_num\"] = us_df[\"patient_US\"].str[-4:].astype(int)\n",
    "            \n",
    "# put indices of uncertainty lists in correct order, corresponding to the appropriate\n",
    "# entry in X_test\n",
    "mri_indices_ordered = []\n",
    "us_indices_ordered = []\n",
    "for X_test_index in X_test_patients.index.values:\n",
    "    patient_number = df_patient_nums.loc[[X_test_index]].iloc[0]\n",
    "    for mri_index, mri_patient_number in enumerate(mri_df[\"patient_num\"]):\n",
    "        if patient_number == mri_patient_number:\n",
    "            for us_index, us_patient_number in enumerate(us_df[\"patient_num\"]):\n",
    "                if patient_number == us_patient_number:\n",
    "                    if mri_index not in mri_indices_ordered and us_index not in us_indices_ordered:\n",
    "                        mri_indices_ordered.append(mri_index)\n",
    "                        us_indices_ordered.append(us_index)\n",
    "\n",
    "# get subset of uncertainties corresponding to X_test\n",
    "# in correct order \n",
    "mri_uncertainty_subset = [mri_combined_uncertainties[i] for i in mri_indices_ordered]\n",
    "us_uncertainty_subset = [us_combined_uncertainties[i] for i in us_indices_ordered]"
   ]
  },
  {
   "cell_type": "code",
   "execution_count": null,
   "metadata": {},
   "outputs": [],
   "source": [
    "## new section to make input uncertainty estimates ## \n",
    "\n",
    "# get the column index of the variables with uncertainty\n",
    "mri_col_index = features_one_hot_df.columns.get_loc(\"prob_MRI\")\n",
    "us_col_index = features_one_hot_df.columns.get_loc(\"prob_US\")\n",
    "\n",
    "rf_mri_uncertainties = get_input_rf_monte_carlo_predictions(\n",
    "    X_test, forward_passes = 100,\n",
    "    model = clf, n_classes = NUM_CLASSES, n_samples = len(mri_uncertainty_subset),\n",
    "    uncertainty_list = mri_uncertainty_subset, variable_col_index = mri_col_index\n",
    ")\n",
    "print(\"MRI done.\")\n",
    "rf_us_uncertainties = get_input_rf_monte_carlo_predictions(\n",
    "    X_test, forward_passes = 100,\n",
    "    model = clf, n_classes = NUM_CLASSES, n_samples = len(us_uncertainty_subset),\n",
    "    uncertainty_list = us_uncertainty_subset, variable_col_index = us_col_index\n",
    ")"
   ]
  },
  {
   "cell_type": "code",
   "execution_count": null,
   "metadata": {},
   "outputs": [],
   "source": [
    "rf_us_uncertainties"
   ]
  },
  {
   "cell_type": "code",
   "execution_count": null,
   "metadata": {},
   "outputs": [],
   "source": [
    "## new section to make model uncertainty estimates ##\n",
    "\n",
    "rf_model_uncertainties = get_rf_model_uncertainty(clf, X_test)\n",
    "\n",
    "rf_model_uncertainties"
   ]
  },
  {
   "cell_type": "code",
   "execution_count": null,
   "metadata": {},
   "outputs": [],
   "source": [
    "## new section to process uncertainty estimates ##\n",
    "\n",
    "rf_combined_uncertainties = (rf_model_uncertainties**2 + \n",
    "                             rf_mri_uncertainties**2 + \n",
    "                             rf_us_uncertainties**2)**0.5"
   ]
  },
  {
   "cell_type": "code",
   "execution_count": null,
   "metadata": {},
   "outputs": [],
   "source": [
    "rf_combined_uncertainties"
   ]
  },
  {
   "cell_type": "code",
   "execution_count": null,
   "metadata": {},
   "outputs": [],
   "source": [
    "# because binary classification leads to uncertainty in one class being equal to the other\n",
    "rf_combined_uncertainties_clean = [row[0] for row in rf_combined_uncertainties]\n",
    "\n",
    "# each entry is a unique individual / data point\n",
    "rf_combined_uncertainties_clean"
   ]
  },
  {
   "cell_type": "code",
   "execution_count": null,
   "metadata": {},
   "outputs": [],
   "source": [
    "df = pd.DataFrame(rf_combined_uncertainties_clean)\n",
    "df.to_csv(\"uncertainty_RF.csv\") "
   ]
  }
 ],
 "metadata": {
  "kernelspec": {
   "display_name": "Python 3",
   "language": "python",
   "name": "python3"
  },
  "language_info": {
   "codemirror_mode": {
    "name": "ipython",
    "version": 3
   },
   "file_extension": ".py",
   "mimetype": "text/x-python",
   "name": "python",
   "nbconvert_exporter": "python",
   "pygments_lexer": "ipython3",
   "version": "3.6.9"
  }
 },
 "nbformat": 4,
 "nbformat_minor": 4
}
