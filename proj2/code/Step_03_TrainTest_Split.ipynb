{
 "cells": [
  {
   "cell_type": "code",
   "execution_count": null,
   "id": "0d6d97b9",
   "metadata": {
    "tags": [
     "parameters"
    ]
   },
   "outputs": [],
   "source": [
    "\"\"\"\n",
    "Cell For Papermill Parameters\n",
    "\"\"\"\n",
    "\n",
    "test_size = 0.4\n",
    "val_size = 0.5\n",
    "seed = 0\n",
    "\n",
    "#SRC Folders\n",
    "pso_folder = \"../../dataset/src/pos\"\n",
    "neg_folder = \"../../dataset/src/neg\"\n",
    "\n",
    "#Train\n",
    "train_pos = \"../../dataset/ds1/train/pos/\"\n",
    "train_neg = \"../../dataset/ds1/train/neg/\"\n",
    "\n",
    "#Test\n",
    "test_pos =  \"../../dataset/ds1/test/pos/\"\n",
    "test_neg =  \"../../dataset/ds1/test/neg/\"\n",
    "\n",
    "#Val\n",
    "val_neg = \"../../dataset/ds1/val/neg/\"\n",
    "val_pos = \"../../dataset/ds1/val/pos/\"\n",
    "\n",
    "#File Prefix\n",
    "file_prefix = 'final'\n",
    "\n",
    "#Target Flags\n",
    "labels_file = \"../data/TCIA Biopsy Data_2020-07-14.xlsx\""
   ]
  },
  {
   "cell_type": "code",
   "execution_count": null,
   "id": "dba21c25",
   "metadata": {},
   "outputs": [],
   "source": [
    "import os\n",
    "import pandas as pd\n",
    "import glob\n",
    "from pathlib import Path\n",
    "from shutil import copy\n",
    "from sklearn.model_selection import train_test_split\n",
    "import numpy"
   ]
  },
  {
   "cell_type": "code",
   "execution_count": null,
   "id": "4144d4ee",
   "metadata": {},
   "outputs": [],
   "source": [
    "def clean_folder(folder,file_prefix):\n",
    "    \n",
    "    \"\"\"\n",
    "    clean_folder removes files with file_prefix\n",
    "    \n",
    "    :param folder_path: folder to process\n",
    "    :param file_prefix: file prefix\n",
    "    \"\"\" \n",
    "    \n",
    "    fileList = glob.glob(folder + '*'+ file_prefix + '*')\n",
    "    for filePath in fileList:\n",
    "        try:\n",
    "            os.remove(filePath)\n",
    "        except:\n",
    "            print(\"Error while deleting file : \", filePath)"
   ]
  },
  {
   "cell_type": "code",
   "execution_count": null,
   "id": "122c3603",
   "metadata": {},
   "outputs": [],
   "source": [
    "def make_test_train(f1,f2,f3,f4,seed,file_prefix,file_loc_list):\n",
    "    \n",
    "    \"\"\"\n",
    "    make_test_train processes DCOM images in the folder\n",
    "    \n",
    "    :param f1: folder to process\n",
    "    :param f2: folder to process\n",
    "    :param f3: folder to process\n",
    "    :param f4: folder to process\n",
    "    :param seed: random seed\n",
    "    :param file_prefix: file prefix\n",
    "    :param file_loc_list: file location list\n",
    "    :return: file_loc_list\n",
    "    \"\"\" \n",
    "        \n",
    "    fileList = glob.glob(f3 + '**/*' + file_prefix +'*' , recursive=True)\n",
    "    data = numpy.array(fileList)\n",
    "    x_train ,x_test = train_test_split(data,test_size=test_size,random_state=seed)\n",
    "    \n",
    "    x_test,x_val    = train_test_split(x_test,test_size=val_size,random_state=seed)\n",
    "\n",
    "    for file in x_train:\n",
    "        file_loc_list.append([\"train\",file])\n",
    "        copy(str(file), f1)\n",
    "\n",
    "    for file in x_test:\n",
    "        file_loc_list.append([\"test\",file])\n",
    "        copy(str(file), f2)\n",
    "        \n",
    "    for file in x_val:\n",
    "        file_loc_list.append([\"val\",file])\n",
    "        copy(str(file), f4)\n",
    "        \n",
    "    return file_loc_list"
   ]
  },
  {
   "cell_type": "markdown",
   "id": "d56a6ed7",
   "metadata": {},
   "source": [
    "# MRI"
   ]
  },
  {
   "cell_type": "code",
   "execution_count": null,
   "id": "9f31ac29",
   "metadata": {},
   "outputs": [],
   "source": [
    "clean_folder(train_pos,file_prefix)\n",
    "clean_folder(test_pos,file_prefix)\n",
    "clean_folder(val_pos,file_prefix)\n",
    "\n",
    "clean_folder(train_neg,file_prefix)\n",
    "clean_folder(test_neg,file_prefix)\n",
    "clean_folder(val_neg,file_prefix)"
   ]
  },
  {
   "cell_type": "code",
   "execution_count": null,
   "id": "ed81a1e7",
   "metadata": {},
   "outputs": [],
   "source": [
    "file_loc_list = []\n",
    "\n",
    "file_loc_list = make_test_train(train_pos,test_pos,pso_folder,val_pos,seed,file_prefix,file_loc_list)\n",
    "file_loc_list = make_test_train(train_neg,test_neg,neg_folder,val_neg,seed,file_prefix,file_loc_list)"
   ]
  },
  {
   "cell_type": "code",
   "execution_count": null,
   "id": "8db5078c",
   "metadata": {},
   "outputs": [],
   "source": [
    "file_loc_list\n",
    "\n",
    "# Create Empty DataFrame\n",
    "df = pd.DataFrame(columns=['s1','s2','s3'])\n",
    "counter = 0\n",
    "for entry in file_loc_list:    \n",
    "    df.loc[counter] = [entry[0]] + [entry[1]] + [entry[1][42:46]]\n",
    "    counter = counter + 1\n",
    "    \n",
    "df.to_csv(\"train_test_val.csv\", sep=',', encoding='utf-8', index=False)"
   ]
  },
  {
   "cell_type": "markdown",
   "id": "7f2f186e",
   "metadata": {},
   "source": [
    "# US"
   ]
  },
  {
   "cell_type": "code",
   "execution_count": null,
   "id": "9c81ce0f",
   "metadata": {},
   "outputs": [],
   "source": [
    "#SRC Folders\n",
    "pso_folder = \"../../dataset/src_US/pos\"\n",
    "neg_folder = \"../../dataset/src_US/neg\"\n",
    "\n",
    "#Train\n",
    "train_pos = \"../../dataset/ds2_US/train/pos/\"\n",
    "train_neg = \"../../dataset/ds2_US/train/neg/\"\n",
    "\n",
    "#Test\n",
    "test_pos =  \"../../dataset/ds2_US/test/pos/\"\n",
    "test_neg =  \"../../dataset/ds2_US/test/neg/\"\n",
    "\n",
    "#Val\n",
    "val_neg = \"../../dataset/ds2_US/val/neg/\"\n",
    "val_pos = \"../../dataset/ds2_US/val/pos/\"\n",
    "\n",
    "#File Prefix\n",
    "file_prefix = 'US_fnl'"
   ]
  },
  {
   "cell_type": "code",
   "execution_count": null,
   "id": "41fe0318",
   "metadata": {},
   "outputs": [],
   "source": [
    "def wheretoput(loc_df,infilename):\n",
    "\n",
    "    \"\"\"\n",
    "    wheretoput matches the US and MRI test/train/dev outputfolders for patients\n",
    "    \n",
    "    :param loc_df: folder location\n",
    "    :param infilename: filename of image\n",
    "    :return: file_loc\n",
    "    \"\"\" \n",
    "    \n",
    "    row = loc_df[loc_df['s3'] == infilename].head(1)    \n",
    "    return row[\"s1\"].values.tolist()"
   ]
  },
  {
   "cell_type": "code",
   "execution_count": null,
   "id": "ed6a912f",
   "metadata": {},
   "outputs": [],
   "source": [
    "clean_folder(train_pos,file_prefix)\n",
    "clean_folder(test_pos,file_prefix)\n",
    "clean_folder(val_pos,file_prefix)\n",
    "\n",
    "clean_folder(train_neg,file_prefix)\n",
    "clean_folder(test_neg,file_prefix)\n",
    "clean_folder(val_neg,file_prefix)"
   ]
  },
  {
   "cell_type": "code",
   "execution_count": null,
   "id": "0c60bc19",
   "metadata": {},
   "outputs": [],
   "source": [
    "def move_us_data(src_folder,train,test,val):\n",
    "\n",
    "    \"\"\"\n",
    "    move_us_data moves US data to match test/train/dev for MRI\n",
    "    \n",
    "    :param src_folder: source folder location\n",
    "    :param train: train folder location\n",
    "    :param test: test folder location\n",
    "    :param val: validation folder location\n",
    "    \"\"\" \n",
    "    \n",
    "    fileList = glob.glob(src_folder + '**/*' + file_prefix +'*' , recursive=True)\n",
    "    for row in fileList:\n",
    "        patient_id = row[46:50]\n",
    "        loc = wheretoput(df,patient_id)\n",
    "\n",
    "        if len(loc) == 1:\n",
    "            if loc[0] == 'test':\n",
    "                copy(row, test)\n",
    "            if loc[0] == 'train':\n",
    "                copy(row, train)\n",
    "            if loc[0] == 'val':\n",
    "                copy(row, val)\n",
    "        else:\n",
    "            copy(row, train)"
   ]
  },
  {
   "cell_type": "code",
   "execution_count": null,
   "id": "2e4238b6",
   "metadata": {},
   "outputs": [],
   "source": [
    "move_us_data(pso_folder,train_pos,test_pos,val_pos)\n",
    "move_us_data(neg_folder,train_neg,test_neg,val_neg)"
   ]
  }
 ],
 "metadata": {
  "kernelspec": {
   "display_name": "Python 3",
   "language": "python",
   "name": "python3"
  },
  "language_info": {
   "codemirror_mode": {
    "name": "ipython",
    "version": 3
   },
   "file_extension": ".py",
   "mimetype": "text/x-python",
   "name": "python",
   "nbconvert_exporter": "python",
   "pygments_lexer": "ipython3",
   "version": "3.6.9"
  }
 },
 "nbformat": 4,
 "nbformat_minor": 5
}
