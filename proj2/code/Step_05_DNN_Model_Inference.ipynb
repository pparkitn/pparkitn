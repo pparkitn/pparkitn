{
 "cells": [
  {
   "cell_type": "code",
   "execution_count": null,
   "id": "da80a5cc",
   "metadata": {
    "tags": [
     "parameters"
    ]
   },
   "outputs": [],
   "source": [
    "\"\"\"\n",
    "Cell For Papermill Parameters\n",
    "\"\"\"\n",
    "\n",
    "ARCH = 'resnet50'\n",
    "imagesize = 500\n",
    "NUM_CLASSES = 2\n",
    "saved_model_name = \"model.pth.tar\"\n",
    "data_dir=\"../../dataset/ds1/val/\"\n",
    "file_name_out = \"dnn_model_scores.csv\"\n",
    "wb_project = \"DNN-Model-US-Inference\"\n",
    "GPU=0\n",
    "SEED=1"
   ]
  },
  {
   "cell_type": "code",
   "execution_count": null,
   "id": "80bd263d",
   "metadata": {},
   "outputs": [],
   "source": [
    "import os\n",
    "import random\n",
    "import shutil\n",
    "import time\n",
    "import pandas as pd\n",
    "import numpy as np\n",
    "import math\n",
    "import json\n",
    "import glob\n",
    "from torch.utils.data.sampler import SubsetRandomSampler\n",
    "\n",
    "from IPython.display import Image\n",
    "import pydicom as dicom\n",
    "import matplotlib.pyplot as plt\n",
    "import os\n",
    "import cv2\n",
    "import pandas as pd\n",
    "import csv\n",
    "import math\n",
    "import glob\n",
    "from pathlib import Path\n",
    "import numpy as np\n",
    "\n",
    "import warnings\n",
    "warnings.filterwarnings(\"ignore\")\n",
    "\n",
    "import timm\n",
    "import torch\n",
    "import torch.nn as nn\n",
    "import torch.backends.cudnn as cudnn\n",
    "import torch.optim\n",
    "import torch.utils.data\n",
    "import torchvision\n",
    "import torchvision.transforms as transforms\n",
    "import torchvision.datasets as datasets\n",
    "import torchvision.models as models\n",
    "from datetime import timedelta\n",
    "import datetime\n",
    "import torch.distributed as dist\n",
    "\n",
    "import wandb\n",
    "from torch.cuda.amp import GradScaler\n",
    "from torch.cuda.amp import autocast\n",
    "\n",
    "import boto3\n",
    "from botocore.exceptions import NoCredentialsError\n",
    "from torch.utils.data.sampler import SubsetRandomSampler\n",
    "\n",
    "import matplotlib.pyplot as plt\n",
    "%matplotlib inline\n",
    "\n",
    "import torch.nn.functional as F\n",
    "from torchvision.utils import make_grid\n",
    "from torch.utils.data import DataLoader\n",
    "from torchvision.datasets import ImageFolder\n",
    "from torch import optim\n",
    "from torchvision import datasets, transforms, models\n",
    "from torch.autograd import Variable\n",
    "\n",
    "from sklearn.metrics import classification_report\n",
    "from sklearn.metrics import confusion_matrix\n",
    "from sklearn.metrics import accuracy_score\n",
    "from sklearn.metrics import roc_curve, auc\n",
    "from sklearn.ensemble import RandomForestRegressor\n",
    "from sklearn.metrics import mean_squared_error"
   ]
  },
  {
   "cell_type": "code",
   "execution_count": null,
   "id": "aec89d48",
   "metadata": {},
   "outputs": [],
   "source": [
    "with open('../config/config.json') as config_f:\n",
    "    data = json.load(config_f)\n",
    "aws_access_key_id = data['aws_access_key_id']\n",
    "aws_secret_access_key = data['aws_secret_access_key']\n",
    "region_name = data['region_name']\n",
    "WANDB_API_KEY = data['WANDB_API_KEY']"
   ]
  },
  {
   "cell_type": "code",
   "execution_count": null,
   "id": "0062e484",
   "metadata": {},
   "outputs": [],
   "source": [
    "os.environ[\"WANDB_API_KEY\"] = WANDB_API_KEY\n",
    "wandb.login()\n",
    "run = wandb.init(project=wb_project, entity='prostate-cancer', config={\"imagesize\":imagesize, \"NUM_CLASSES\":NUM_CLASSES})\n",
    "\n",
    "wandb_run_name = wandb.run.name\n",
    "wandb_run_id = wandb.run.id\n",
    "\n",
    "config = wandb.config"
   ]
  },
  {
   "cell_type": "code",
   "execution_count": null,
   "id": "7a1ccb47",
   "metadata": {},
   "outputs": [],
   "source": [
    "torch.cuda.set_device(GPU)\n",
    "\n",
    "model = models.__dict__[ARCH](pretrained = True)\n",
    "inf = model.fc.in_features\n",
    "model.fc = nn.Linear(inf, NUM_CLASSES)\n",
    "model.cuda(GPU)\n",
    "\n",
    "loc = 'cuda:{}'.format(GPU)\n",
    "checkpoint = torch.load(saved_model_name, map_location=loc)\n",
    "model.load_state_dict(checkpoint['state_dict'])\n",
    "device = torch.device(\"cuda\" if torch.cuda.is_available() else \"cpu\")"
   ]
  },
  {
   "cell_type": "code",
   "execution_count": null,
   "id": "5220e59f",
   "metadata": {},
   "outputs": [],
   "source": [
    "test_transforms = transforms.Compose([\n",
    "    transforms.Resize((imagesize,imagesize)),\n",
    "    transforms.ToTensor()\n",
    "])"
   ]
  },
  {
   "cell_type": "code",
   "execution_count": null,
   "id": "9c7a3d09",
   "metadata": {},
   "outputs": [],
   "source": [
    "def predict_image(image):\n",
    "    \n",
    "    model.eval()\n",
    "    with torch.no_grad():\n",
    "    \n",
    "        image_tensor = test_transforms(image).float()\n",
    "        image_tensor = image_tensor.unsqueeze_(0)\n",
    "        input = Variable(image_tensor)\n",
    "        input = input.to(device)\n",
    "        output = model(input)\n",
    "        index = output.data.cpu().numpy().argmax()\n",
    "        \n",
    "        sm = torch.nn.Softmax()\n",
    "        probabilities = sm(output) \n",
    "       \n",
    "    return index,probabilities.tolist()[0]"
   ]
  },
  {
   "cell_type": "code",
   "execution_count": null,
   "id": "ebc7ffa3",
   "metadata": {},
   "outputs": [],
   "source": [
    "predicted = []\n",
    "actual = []\n",
    "image_name = []\n",
    "probabilities = []\n",
    "\n",
    "to_pil = transforms.ToPILImage()\n",
    "\n",
    "fileList = glob.glob(data_dir + '*/*jpg*' , recursive=True)"
   ]
  },
  {
   "cell_type": "code",
   "execution_count": null,
   "id": "1ae50ae0",
   "metadata": {},
   "outputs": [],
   "source": [
    "for image in fileList:\n",
    "    img = cv2.imread(image)\n",
    "    img = to_pil(img)\n",
    "    prediction,prob = predict_image(img)\n",
    "    predicted.append(prediction)\n",
    "    probabilities.append(round(prob[0],4))\n",
    "    image_name.append(image)\n",
    "    \n",
    "    if image.find('pos') > 0:\n",
    "        actual.append(1)\n",
    "    else:\n",
    "        actual.append(0)    "
   ]
  },
  {
   "cell_type": "code",
   "execution_count": null,
   "id": "67af6ea5",
   "metadata": {},
   "outputs": [],
   "source": [
    "df = pd.DataFrame(list(zip(predicted, actual,probabilities,image_name)), columns =['predicted', 'actual','prob','image_name'])\n",
    "df"
   ]
  },
  {
   "cell_type": "code",
   "execution_count": null,
   "id": "e7830b04",
   "metadata": {},
   "outputs": [],
   "source": [
    "def add_patient_number(file_name,proc_type):\n",
    "    \"\"\" Text \"\"\"\n",
    "    append = 'Prostate-MRI-US-Biopsy-' + file_name[-8:][:4]\n",
    "    return append"
   ]
  },
  {
   "cell_type": "code",
   "execution_count": null,
   "id": "117814a1",
   "metadata": {},
   "outputs": [],
   "source": [
    "df['patient'] = df['image_name'].apply(add_patient_number,args=('stem',))"
   ]
  },
  {
   "cell_type": "code",
   "execution_count": null,
   "id": "d9970c28",
   "metadata": {},
   "outputs": [],
   "source": [
    "df"
   ]
  },
  {
   "cell_type": "code",
   "execution_count": null,
   "id": "a609f0b3",
   "metadata": {},
   "outputs": [],
   "source": [
    "df.to_csv(file_name_out, sep=',', encoding='utf-8', index=False)"
   ]
  },
  {
   "cell_type": "code",
   "execution_count": null,
   "id": "541cde19",
   "metadata": {},
   "outputs": [],
   "source": [
    "def make_ROC_graph(labels_test,prediction):\n",
    "    \"\"\" Text \"\"\"\n",
    "\n",
    "    false_positive_rate, recall, thresholds = roc_curve(labels_test,prediction)\n",
    "    roc_auc = auc(false_positive_rate, recall)\n",
    "    fig = plt.figure(figsize=(3, 3),frameon =False, dpi=200)  \n",
    "    plt.title('Receiver Operating Characteristic')\n",
    "    plt.plot(false_positive_rate, recall, 'b', label='AUC = %0.2f' %roc_auc)\n",
    "    plt.legend(loc='lower right')\n",
    "    plt.plot([0, 1], [0, 1], 'r--')\n",
    "    plt.xlim([0.0, 1.0])\n",
    "    plt.ylim([0.0, 1.0])\n",
    "    plt.ylabel('True Positive Rate')\n",
    "    plt.xlabel('False Positive Rate')\n",
    "    fn = \"roc_graph.png\"\n",
    "    plt.savefig(fn,bbox_inches='tight')\n",
    "    plt.show()\n",
    "    plt.close()\n",
    "    wandb.log({\"Media/ROC-Graph\": wandb.Image(\"roc_graph.png\")})"
   ]
  },
  {
   "cell_type": "code",
   "execution_count": null,
   "id": "dafbbff8",
   "metadata": {},
   "outputs": [],
   "source": [
    "make_ROC_graph(actual,predicted)"
   ]
  }
 ],
 "metadata": {
  "kernelspec": {
   "display_name": "Python 3",
   "language": "python",
   "name": "python3"
  },
  "language_info": {
   "codemirror_mode": {
    "name": "ipython",
    "version": 3
   },
   "file_extension": ".py",
   "mimetype": "text/x-python",
   "name": "python",
   "nbconvert_exporter": "python",
   "pygments_lexer": "ipython3",
   "version": "3.6.9"
  }
 },
 "nbformat": 4,
 "nbformat_minor": 5
}
