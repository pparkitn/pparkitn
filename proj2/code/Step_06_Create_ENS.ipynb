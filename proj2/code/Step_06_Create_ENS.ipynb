{
 "cells": [
  {
   "cell_type": "code",
   "execution_count": null,
   "id": "f97a1d78",
   "metadata": {
    "tags": [
     "parameters"
    ]
   },
   "outputs": [],
   "source": [
    "\"\"\"\n",
    "Cell For Papermill Parameters\n",
    "\"\"\"\n",
    "\n",
    "labels_file = \"../data/TCIA Biopsy Data_2020-07-14.xlsx\"\n",
    "features_file = \"patients.csv\"\n",
    "out_file = \"to_ngboost.csv\"\n",
    "model_scores = 'dnn_model_scores-MRI.csv'\n",
    "model_scores2 = 'dnn_model_scores-US.csv'"
   ]
  },
  {
   "cell_type": "code",
   "execution_count": null,
   "id": "2b01e342",
   "metadata": {},
   "outputs": [],
   "source": [
    "from IPython.display import Image\n",
    "import pydicom as dicom\n",
    "import matplotlib.pyplot as plt\n",
    "import os\n",
    "import cv2\n",
    "import pandas as pd\n",
    "import csv\n",
    "import math\n",
    "import glob\n",
    "from pathlib import Path\n",
    "import numpy as np"
   ]
  },
  {
   "cell_type": "code",
   "execution_count": null,
   "id": "5d429f64",
   "metadata": {},
   "outputs": [],
   "source": [
    "#Load Features\n",
    "df_in = pd.read_csv(features_file)"
   ]
  },
  {
   "cell_type": "code",
   "execution_count": null,
   "id": "84d22490",
   "metadata": {},
   "outputs": [],
   "source": [
    "#Load Labels\n",
    "labels_df = pd.read_excel (labels_file)"
   ]
  },
  {
   "cell_type": "code",
   "execution_count": null,
   "id": "120e984b",
   "metadata": {},
   "outputs": [],
   "source": [
    "# PSA\n",
    "psa_df = labels_df[['Patient Number','PSA (ng/mL)']]\n",
    "psa_df = psa_df.drop_duplicates()"
   ]
  },
  {
   "cell_type": "code",
   "execution_count": null,
   "id": "eb63dc83",
   "metadata": {},
   "outputs": [],
   "source": [
    "labels_df = labels_df[['% Cancer in Core','Patient Number']]"
   ]
  },
  {
   "cell_type": "code",
   "execution_count": null,
   "id": "18880449",
   "metadata": {},
   "outputs": [],
   "source": [
    "patients_df = labels_df[labels_df['% Cancer in Core'] > 0]\n",
    "\n",
    "patient_mean_df = patients_df.groupby('Patient Number').mean()\n",
    "patient_mean_df = patient_mean_df.reset_index()\n",
    "patient_mean_df.rename(columns={\"% Cancer in Core\": \"cancer_in_core_mean\"},inplace=True)\n",
    "\n",
    "patient_max_df = patients_df.groupby('Patient Number').max()\n",
    "patient_max_df = patient_max_df.reset_index()\n",
    "patient_max_df.rename(columns={\"% Cancer in Core\": \"cancer_in_core_max\"},inplace=True)"
   ]
  },
  {
   "cell_type": "code",
   "execution_count": null,
   "id": "2553bc4f",
   "metadata": {},
   "outputs": [],
   "source": [
    "labels_df = labels_df[labels_df['% Cancer in Core'] > 0]\n",
    "labels_df = labels_df[['Patient Number']]\n",
    "labels_df = labels_df.drop_duplicates()\n",
    "labels_df[\"label_clas\"] = 1"
   ]
  },
  {
   "cell_type": "code",
   "execution_count": null,
   "id": "ca82e803",
   "metadata": {},
   "outputs": [],
   "source": [
    "labels_df = pd.merge(labels_df,patient_max_df,how='inner',left_on='Patient Number',right_on='Patient Number')\n",
    "labels_df = pd.merge(labels_df,patient_mean_df,how='inner',left_on='Patient Number',right_on='Patient Number')"
   ]
  },
  {
   "cell_type": "markdown",
   "id": "d3ee80e4",
   "metadata": {},
   "source": [
    "# JOIN DATA"
   ]
  },
  {
   "cell_type": "code",
   "execution_count": null,
   "id": "8e2d8e4a",
   "metadata": {},
   "outputs": [],
   "source": [
    "final_df = pd.merge(df_in,labels_df,how='left',left_on='name',right_on='Patient Number')\n",
    "final_df[\"label_clas\"] = final_df[\"label_clas\"].fillna(\"0\")\n",
    "final_df[\"cancer_in_core_max\"] = final_df[\"cancer_in_core_max\"].fillna(\"0\")\n",
    "final_df[\"cancer_in_core_mean\"] = final_df[\"cancer_in_core_mean\"].fillna(\"0\")\n",
    "final_df[\"age\"] = final_df[\"age\"].str.replace('Y','')\n",
    "final_df"
   ]
  },
  {
   "cell_type": "markdown",
   "id": "46742a42",
   "metadata": {},
   "source": [
    "# Load DNN Results MRI"
   ]
  },
  {
   "cell_type": "code",
   "execution_count": null,
   "id": "b9d529fa",
   "metadata": {},
   "outputs": [],
   "source": [
    "#Load Features\n",
    "dnn_df = pd.read_csv(model_scores)\n",
    "dnn_df = dnn_df[['patient','predicted','prob']]\n",
    "dnn_df = dnn_df.drop_duplicates()\n",
    "dnn_df = dnn_df.add_suffix('_MRI')\n",
    "dnn_df"
   ]
  },
  {
   "cell_type": "code",
   "execution_count": null,
   "id": "a62897a0",
   "metadata": {},
   "outputs": [],
   "source": [
    "dnn_df = dnn_df.groupby('patient_MRI').mean()\n",
    "dnn_df = dnn_df.reset_index()\n",
    "dnn_df"
   ]
  },
  {
   "cell_type": "code",
   "execution_count": null,
   "id": "76b4d07e",
   "metadata": {},
   "outputs": [],
   "source": [
    "final_df = pd.merge(final_df,dnn_df,how='left',left_on='name',right_on='patient_MRI')\n",
    "final_df"
   ]
  },
  {
   "cell_type": "markdown",
   "id": "656db478",
   "metadata": {},
   "source": [
    "# Load Models Scores US"
   ]
  },
  {
   "cell_type": "code",
   "execution_count": null,
   "id": "d12261ee",
   "metadata": {},
   "outputs": [],
   "source": [
    "#Load Features\n",
    "dnn_df = pd.read_csv(model_scores2)\n",
    "dnn_df = dnn_df[['patient','predicted','prob']]\n",
    "dnn_df = dnn_df.drop_duplicates()\n",
    "dnn_df = dnn_df.add_suffix('_US')\n",
    "dnn_df"
   ]
  },
  {
   "cell_type": "code",
   "execution_count": null,
   "id": "872cd789",
   "metadata": {},
   "outputs": [],
   "source": [
    "dnn_df = dnn_df.groupby('patient_US').mean()\n",
    "dnn_df = dnn_df.reset_index()\n",
    "dnn_df"
   ]
  },
  {
   "cell_type": "code",
   "execution_count": null,
   "id": "68cfbbc7",
   "metadata": {},
   "outputs": [],
   "source": [
    "final_df = pd.merge(final_df,dnn_df,how='left',left_on='name',right_on='patient_US')\n",
    "final_df"
   ]
  },
  {
   "cell_type": "markdown",
   "id": "c0ca45d6",
   "metadata": {},
   "source": [
    "# ADD PSA"
   ]
  },
  {
   "cell_type": "code",
   "execution_count": null,
   "id": "d9cfd469",
   "metadata": {},
   "outputs": [],
   "source": [
    "psa_df\n",
    "psa_df = psa_df.groupby('Patient Number').mean()\n",
    "psa_df = psa_df.reset_index()\n",
    "final_df = pd.merge(final_df,psa_df,how='left',left_on='name',right_on='Patient Number')"
   ]
  },
  {
   "cell_type": "code",
   "execution_count": null,
   "id": "883d0cc8",
   "metadata": {},
   "outputs": [],
   "source": [
    "final_df.head(5)"
   ]
  },
  {
   "cell_type": "code",
   "execution_count": null,
   "id": "a6601a9a",
   "metadata": {},
   "outputs": [],
   "source": [
    "final_df.rename(columns={\"PSA (ng/mL)\": \"PSA\"},inplace=True)\n",
    "final_df.rename(columns={\"predicted_MRI\": \"Model-MRI-DNN\"},inplace=True)\n",
    "final_df.rename(columns={\"predicted_US\": \"Model-US-DNN\"},inplace=True)"
   ]
  },
  {
   "cell_type": "code",
   "execution_count": null,
   "id": "bce02d06",
   "metadata": {},
   "outputs": [],
   "source": [
    "final_df = final_df[[\"name\",\"age\",\"size\",\"weight\",\"ethnic_grp\",\"occupation\",\"smoking_status\",\"label_clas\",\"Model-MRI-DNN\",\"prob_MRI\",\"Model-US-DNN\",\"prob_US\",\"PSA\"]]\n",
    "final_df.head(5)"
   ]
  },
  {
   "cell_type": "markdown",
   "id": "13967af5",
   "metadata": {},
   "source": [
    "# Save Final Output"
   ]
  },
  {
   "cell_type": "code",
   "execution_count": null,
   "id": "18ec3395",
   "metadata": {},
   "outputs": [],
   "source": [
    "final_df.to_csv(out_file, sep=',', encoding='utf-8', index=False)"
   ]
  }
 ],
 "metadata": {
  "kernelspec": {
   "display_name": "Python 3",
   "language": "python",
   "name": "python3"
  },
  "language_info": {
   "codemirror_mode": {
    "name": "ipython",
    "version": 3
   },
   "file_extension": ".py",
   "mimetype": "text/x-python",
   "name": "python",
   "nbconvert_exporter": "python",
   "pygments_lexer": "ipython3",
   "version": "3.6.9"
  }
 },
 "nbformat": 4,
 "nbformat_minor": 5
}
