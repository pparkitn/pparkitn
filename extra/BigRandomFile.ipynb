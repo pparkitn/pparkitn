{
 "cells": [
  {
   "cell_type": "code",
   "execution_count": 1,
   "id": "40c00fc7",
   "metadata": {},
   "outputs": [],
   "source": [
    "def generate_big_random_bin_file(filename,size):\n",
    "    \"\"\"\n",
    "    generate big binary file with the specified size in bytes\n",
    "    :param filename: the filename\n",
    "    :param size: the size in bytes\n",
    "    :return:void\n",
    "    \"\"\"\n",
    "    import os \n",
    "    with open('%s'%filename, 'wb') as fout:\n",
    "        fout.write(os.urandom(size)) #1\n",
    "\n",
    "    print ('big random binary file with size %f generated ok'%size)\n",
    "    pass"
   ]
  },
  {
   "cell_type": "code",
   "execution_count": 4,
   "id": "22430451",
   "metadata": {},
   "outputs": [],
   "source": [
    "generate_big_random_bin_file(\"temp_big_bin1.dat\",1024*1024*30000)\n",
    "generate_big_random_bin_file(\"temp_big_bin2.dat\",1024*1024*30000)"
   ]
  }
 ],
 "metadata": {
  "kernelspec": {
   "display_name": "Python 3",
   "language": "python",
   "name": "python3"
  },
  "language_info": {
   "codemirror_mode": {
    "name": "ipython",
    "version": 3
   },
   "file_extension": ".py",
   "mimetype": "text/x-python",
   "name": "python",
   "nbconvert_exporter": "python",
   "pygments_lexer": "ipython3",
   "version": "3.10.13"
  }
 },
 "nbformat": 4,
 "nbformat_minor": 5
}
